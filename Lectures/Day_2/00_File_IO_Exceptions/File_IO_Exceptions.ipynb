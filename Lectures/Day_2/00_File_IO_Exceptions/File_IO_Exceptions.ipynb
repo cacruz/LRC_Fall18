{
 "cells": [
  {
   "cell_type": "markdown",
   "metadata": {
    "slideshow": {
     "slide_type": "slide"
    }
   },
   "source": [
    "# File IO and Exceptions"
   ]
  },
  {
   "cell_type": "markdown",
   "metadata": {
    "slideshow": {
     "slide_type": "-"
    }
   },
   "source": [
    "### Reading text files"
   ]
  },
  {
   "cell_type": "code",
   "execution_count": null,
   "metadata": {
    "slideshow": {
     "slide_type": "-"
    }
   },
   "outputs": [],
   "source": [
    "help(open)"
   ]
  },
  {
   "cell_type": "code",
   "execution_count": null,
   "metadata": {
    "slideshow": {
     "slide_type": "-"
    }
   },
   "outputs": [],
   "source": [
    "file_object = open('caterpillar_advice.txt', 'r') # 'r' is default"
   ]
  },
  {
   "cell_type": "markdown",
   "metadata": {},
   "source": [
    "What type of object is __file_object__?"
   ]
  },
  {
   "cell_type": "code",
   "execution_count": null,
   "metadata": {},
   "outputs": [],
   "source": [
    "print(file_object)\n",
    "print(\"file_object is of type\",(type(file_object)))"
   ]
  },
  {
   "cell_type": "code",
   "execution_count": null,
   "metadata": {
    "scrolled": true,
    "slideshow": {
     "slide_type": "-"
    }
   },
   "outputs": [],
   "source": [
    "# file_object.<TAB>\n",
    "dir(file_object) # attributes and methods of file objects"
   ]
  },
  {
   "cell_type": "code",
   "execution_count": null,
   "metadata": {
    "slideshow": {
     "slide_type": "-"
    }
   },
   "outputs": [],
   "source": [
    "# Examples\n",
    "print(file_object.name)\n",
    "print(file_object.mode)\n",
    "print(file_object.closed)"
   ]
  },
  {
   "cell_type": "markdown",
   "metadata": {
    "slideshow": {
     "slide_type": "-"
    }
   },
   "source": [
    "A file_object can be treated as a <font color='blue'>sequence</font> of strings. So, we can use the use <font color='blue'>for</font> loop to read each line."
   ]
  },
  {
   "cell_type": "code",
   "execution_count": null,
   "metadata": {},
   "outputs": [],
   "source": [
    "for line in file_object:\n",
    "    print(line)\n",
    "file_object.close()"
   ]
  },
  {
   "cell_type": "markdown",
   "metadata": {},
   "source": [
    "#### Note: Each line includes a non-printing character called the newline character \"\\n\""
   ]
  },
  {
   "cell_type": "markdown",
   "metadata": {},
   "source": [
    "Exercise:\n",
    "\n",
    "Read the text file caterpillar_advice.txt and count the number of lines *excluding* empty lines."
   ]
  },
  {
   "cell_type": "code",
   "execution_count": null,
   "metadata": {},
   "outputs": [],
   "source": [
    "file_object = open('caterpillar_advice.txt', 'r')\n",
    "count = 0\n",
    "for line in file_object:\n",
    "    if not line.startswith('\\n'):\n",
    "        count += 1\n",
    "file_object.close()\n",
    "count"
   ]
  },
  {
   "cell_type": "code",
   "execution_count": null,
   "metadata": {
    "slideshow": {
     "slide_type": "-"
    }
   },
   "outputs": [],
   "source": [
    "my_file = open ('caterpillar_advice.txt','r')\n",
    "\n",
    "# read() reads the _entire_ file, returns a string object\n",
    "a_string = my_file.read()           \n",
    "print(\"Contents of file are of type\",type(a_string))\n",
    "\n",
    "# close file handle\n",
    "my_file.close()\n",
    "\n",
    "# Now data is in memory\n",
    "print('<', a_string, '>')"
   ]
  },
  {
   "cell_type": "markdown",
   "metadata": {},
   "source": [
    "#### Read file chunks"
   ]
  },
  {
   "cell_type": "code",
   "execution_count": null,
   "metadata": {
    "slideshow": {
     "slide_type": "-"
    }
   },
   "outputs": [],
   "source": [
    "my_file = open('caterpillar_advice.txt', 'r')\n",
    "chunk = my_file.read(32)\n",
    "print(type(chunk))\n",
    "print(chunk, ' * ')\n",
    "while chunk != \"\":\n",
    "   chunk = my_file.read(32)   # read in 32-byte chunk sizes   \n",
    "   print(chunk, ' * ')\n",
    "    \n",
    "my_file.close()"
   ]
  },
  {
   "cell_type": "markdown",
   "metadata": {},
   "source": [
    "#### Read one line at a time"
   ]
  },
  {
   "cell_type": "code",
   "execution_count": null,
   "metadata": {
    "slideshow": {
     "slide_type": "-"
    }
   },
   "outputs": [],
   "source": [
    "my_file = open ('caterpillar_advice.txt')\n",
    "line = my_file.readline()\n",
    "type(line)\n",
    "line\n",
    "my_file.close()"
   ]
  },
  {
   "cell_type": "markdown",
   "metadata": {},
   "source": [
    "#### Read all the lines in the text file"
   ]
  },
  {
   "cell_type": "code",
   "execution_count": null,
   "metadata": {},
   "outputs": [],
   "source": [
    "my_file = open ('caterpillar_advice.txt')\n",
    "lines = my_file.readlines()\n",
    "type(lines)\n",
    "lines                \n",
    "my_file.close()"
   ]
  },
  {
   "cell_type": "markdown",
   "metadata": {},
   "source": [
    "### Automatically closing files"
   ]
  },
  {
   "cell_type": "code",
   "execution_count": null,
   "metadata": {},
   "outputs": [],
   "source": [
    "# to open a file, process its contents, and make sure to close it, you can simply do:\n",
    "\n",
    "with open ('caterpillar_advice.txt', 'r') as f:\n",
    "    data = f.read() \n",
    "    print('Is file open? ',(f.closed))\n",
    "    # file will be closed after exiting this block of code\n",
    "    \n",
    "print('Is file open? ',(f.closed))\n",
    "print((f.mode))"
   ]
  },
  {
   "cell_type": "markdown",
   "metadata": {},
   "source": [
    "### Writing text files"
   ]
  },
  {
   "cell_type": "code",
   "execution_count": null,
   "metadata": {},
   "outputs": [],
   "source": [
    "with open ('write_test.txt', 'w+') as f:\n",
    "    f.write('Test')"
   ]
  },
  {
   "cell_type": "code",
   "execution_count": null,
   "metadata": {},
   "outputs": [],
   "source": [
    "!cat write_test.txt"
   ]
  },
  {
   "cell_type": "code",
   "execution_count": null,
   "metadata": {},
   "outputs": [],
   "source": [
    "with open ('caterpillar_advice.txt', 'r') as rf:\n",
    "    with open ('caterpillar_advice.txt_copy.txt', 'w') as wf:\n",
    "        for line in rf:\n",
    "            wf.write(line)\n"
   ]
  },
  {
   "cell_type": "code",
   "execution_count": null,
   "metadata": {},
   "outputs": [],
   "source": [
    "!cat caterpillar_advice.txt_copy.txt"
   ]
  },
  {
   "cell_type": "markdown",
   "metadata": {},
   "source": [
    "### Summary of open() file access modes"
   ]
  },
  {
   "cell_type": "markdown",
   "metadata": {},
   "source": [
    "<table style=\"width:100%\">\n",
    "  <tr>\n",
    "    <th>Mode</th>\n",
    "    <th>Description</th> \n",
    "  </tr>\n",
    "  <tr>\n",
    "    <td>r</td>\n",
    "    <td>Opens a file for reading only. Default mode.</td> \n",
    "  </tr>\n",
    "  <tr>\n",
    "    <td>rb</td>\n",
    "    <td>Opens a file for reading only in binary format.</td> \n",
    "  </tr>\n",
    "  <tr>\n",
    "    <td>r+</td>\n",
    "    <td>Opens a file for both reading and writing.</td> \n",
    "  </tr>\n",
    "  <tr>\n",
    "    <td>rb+</td>\n",
    "    <td>Opens a file for both reading and writing in binary format.</td> \n",
    "  </tr>\n",
    "  <tr>\n",
    "    <td>w</td>\n",
    "    <td>Opens a file for writing only. Overwrites file if it exists. Creates a new file if it does not exist.</td> \n",
    "  </tr>\n",
    "  <tr>\n",
    "    <td>wb</td>\n",
    "    <td>Opens a file for writing only in binary format.</td> \n",
    "  </tr>\n",
    "  <tr>\n",
    "    <td>w+</td>\n",
    "    <td>Opens a file for both writing and reading.</td> \n",
    "  </tr>\n",
    "  <tr>\n",
    "    <td>wb+</td>\n",
    "    <td>Opens a file for both writing and reading in binary format.</td> \n",
    "  </tr>\n",
    "    <td>a</td>\n",
    "    <td>Opens a file for appending. The file pointer is at the end of the file if it exists. </td> \n",
    "  </tr>\n",
    "  <tr>\n",
    "    <td>ab</td>\n",
    "    <td>Opens a file for appending in binary format.</td> \n",
    "  </tr>\n",
    "  <tr>\n",
    "    <td>a+</td>\n",
    "    <td>Opens a file for both appending and reading.</td> \n",
    "  </tr>\n",
    "  <tr>\n",
    "    <td>ab+</td>\n",
    "    <td>Opens a file for both appending and reading in binary format.</td> \n",
    "  </tr>\n",
    "</table>"
   ]
  },
  {
   "cell_type": "markdown",
   "metadata": {},
   "source": [
    "## Summary of basic file IO functions and methods"
   ]
  },
  {
   "cell_type": "markdown",
   "metadata": {},
   "source": [
    "<table style=\"width:100%\">\n",
    "  <tr>\n",
    "    <th>Methods and functions</th>\n",
    "    <th>Description</th> \n",
    "  </tr>\n",
    "  <tr>\n",
    "    <td>open()</td>\n",
    "    <td>Returns a file object and is most commonly used with two arguments: open(filename, mode)</td> \n",
    "  </tr>\n",
    "  <tr>\n",
    "    <td>file.close()</td>\n",
    "    <td>Close the file.</td> \n",
    "  </tr>\n",
    "  <tr>\n",
    "    <td>file.read([size])</td>\n",
    "    <td>Read the entire file. If size is specified then read at most size bytes.</td> \n",
    "  </tr>\n",
    "  <tr>\n",
    "    <td>file.readline([size])</td>\n",
    "    <td>Read one line from the file. If size is specified then read at most size bytes.</td> \n",
    "  </tr>\n",
    "  <tr>\n",
    "    <td>file.readlines([size])</td>\n",
    "    <td>Read all the lines from the file. If size is specified then read at most size bytes.</td> \n",
    "  </tr>\n",
    "  <tr>\n",
    "    <td>file.tell()</td>\n",
    "    <td>Returns file object's current position in the file.</td> \n",
    "  </tr>\n",
    "  <tr>\n",
    "    <td>file.seek(int)</td>\n",
    "    <td>Changes the file object's current position to the given int.</td> \n",
    "  <tr>\n",
    "    <td>file.write(string)</td>\n",
    "    <td>Writes the contents of string to the file.</td> \n",
    "  </tr>\n",
    "</table>"
   ]
  },
  {
   "cell_type": "markdown",
   "metadata": {},
   "source": [
    "### Handling delimited files"
   ]
  },
  {
   "cell_type": "code",
   "execution_count": null,
   "metadata": {},
   "outputs": [],
   "source": [
    "!cat grades.csv"
   ]
  },
  {
   "cell_type": "markdown",
   "metadata": {},
   "source": [
    "One could use csv package: \n",
    "```cython\n",
    "import csv\n",
    "```"
   ]
  },
  {
   "cell_type": "code",
   "execution_count": null,
   "metadata": {},
   "outputs": [],
   "source": [
    "with open('grades.csv', 'r') as f:\n",
    "    for line in f:\n",
    "        print(line.strip().split(','))"
   ]
  },
  {
   "cell_type": "markdown",
   "metadata": {},
   "source": [
    "Each row of the input data is parsed and converted to a list of strings."
   ]
  },
  {
   "cell_type": "markdown",
   "metadata": {},
   "source": [
    "### buffering\n",
    "\n",
    "A buffer holds a chunk of data from operating system's file stream until it is used upon which more data comes in, which is similar to video buffering. \n",
    "\n",
    "Buffering is useful when you don't know the size of file you are working with, if the file size is greater than computer memory then processing unit will not function properly. The buffer size tells how much data can be held at a time until it is used.io.DEFAULT_BUFFER_SIZE can tell default buffer size of your platform."
   ]
  },
  {
   "cell_type": "code",
   "execution_count": null,
   "metadata": {},
   "outputs": [],
   "source": [
    "import io\n",
    "print(\"Default buffer size:\",io.DEFAULT_BUFFER_SIZE)\n",
    "file=open(\"caterpillar_advice.txt\",mode=\"r\",buffering=5)\n",
    "print(file.line_buffering)\n",
    "file_contents=file.buffer\n",
    "for line in file_contents:\n",
    "    print(line)\n"
   ]
  },
  {
   "cell_type": "markdown",
   "metadata": {},
   "source": [
    "Note that if you are using all arguments in the order that is specified in \n",
    "\n",
    "open(file, mode='r', buffering=-1, encoding=None, errors=None, newline=None, closefd=True, opener=None)\n",
    "\n",
    "you don't need to write argument name! If you skip arguments because you want to keep the default values, it’s better to write everything out in full. "
   ]
  },
  {
   "cell_type": "markdown",
   "metadata": {},
   "source": [
    "### encoding\n",
    "\n",
    "encoding represents the character encoding, which is the coding system that uses bits and byte to represent a character. This concept frequently pops up when you’re talking about data storage, data transmission and computation.\n",
    "\n",
    "As default encoding is operating system dependent (UTF-8 in Linux). So when dealing with text files, it is a good practice to specify the character encoding. Note that the binary mode doesn't take an encoding argument.\n"
   ]
  },
  {
   "cell_type": "code",
   "execution_count": null,
   "metadata": {},
   "outputs": [],
   "source": [
    "with open(\"caterpillar_advice.txt\",mode=\"r\") as file:\n",
    "    print(\"Default encoding:\",file.encoding)\n",
    "    file.close()\n",
    "##change encoding to utf-8\n",
    "with open(\"caterpillar_advice.txt\",mode=\"r\",encoding=\"utf-8\") as file:\n",
    "    print(\"New encoding:\",file.encoding)\n",
    "    file.close()"
   ]
  },
  {
   "cell_type": "markdown",
   "metadata": {},
   "source": [
    "In Python 3 there are two different types:\n",
    "\n",
    "* The bytes type. This is just a sequence of bytes, Python doesn't know anything about how to interpret this as characters.\n",
    "* The str type. This is also a sequence of bytes, but Python knows how to interpret those bytes as characters.\n",
    "\n",
    "In Python 2 implicitly assuming an encoding could cause a lot of problems; you could end up using the wrong encoding, or the data may not have an encoding at all (e.g. it’s a PNG image).\n",
    "Explicitly telling Python which encoding to use (or explicitly telling it to guess) is often a lot better and much more in line with the \"Python philosophy\" of \"explicit is better than implicit\".\n",
    "\n",
    "This change is incompatible with Python 2 as many return values have changed, leading to subtle problems like this one; it's probably the main reason why Python 3 adoption has been so slow. Since Python doesn't have static typing2 it's impossible to change this automatically with a script (such as the bundled 2to3)."
   ]
  },
  {
   "cell_type": "code",
   "execution_count": null,
   "metadata": {},
   "outputs": [],
   "source": []
  },
  {
   "cell_type": "markdown",
   "metadata": {},
   "source": [
    "### OS dependent functions"
   ]
  },
  {
   "cell_type": "code",
   "execution_count": null,
   "metadata": {},
   "outputs": [],
   "source": [
    "import os"
   ]
  },
  {
   "cell_type": "markdown",
   "metadata": {
    "collapsed": true
   },
   "source": [
    "Python os module provides methods that help you perform all kinds of file-processing operations, such as renaming and deleting files (as well as file IO)."
   ]
  },
  {
   "cell_type": "code",
   "execution_count": null,
   "metadata": {},
   "outputs": [],
   "source": [
    "help(os.read)\n",
    "fd = os.open('caterpillar_advice.txt', os.O_RDWR)\n",
    "ret = os.read(fd, 15)\n",
    "print('Result from os.read:'+'\\n'+20*'-'+'\\n'+ret.decode('utf-8'))\n",
    "os.close(fd)"
   ]
  },
  {
   "cell_type": "markdown",
   "metadata": {},
   "source": [
    "#### You need to test whether or not a file or directory exists."
   ]
  },
  {
   "cell_type": "code",
   "execution_count": null,
   "metadata": {},
   "outputs": [],
   "source": [
    "print(os.path.exists('/etc/passwd'))\n",
    "print(os.path.exists('/etc/spam'))"
   ]
  },
  {
   "cell_type": "code",
   "execution_count": null,
   "metadata": {},
   "outputs": [],
   "source": [
    "filename = '/etc/spam'\n",
    "if os.path.exists(filename):\n",
    "    with open(filename) as f:\n",
    "        data = f.readline()\n",
    "    print(data)\n",
    "else:\n",
    "    print (filename + ' does not exist')"
   ]
  },
  {
   "cell_type": "markdown",
   "metadata": {},
   "source": [
    "#### List files in current directory"
   ]
  },
  {
   "cell_type": "code",
   "execution_count": null,
   "metadata": {},
   "outputs": [],
   "source": [
    "listdir =  os.listdir(\".\")\n",
    "for file in listdir:\n",
    "   print(file)"
   ]
  },
  {
   "cell_type": "markdown",
   "metadata": {},
   "source": [
    "#### Dealing with directories"
   ]
  },
  {
   "cell_type": "code",
   "execution_count": null,
   "metadata": {},
   "outputs": [],
   "source": [
    "os.mkdir(\"newdir\")\n",
    "os.chdir(\"newdir\")\n",
    "print(os.getcwd())"
   ]
  },
  {
   "cell_type": "code",
   "execution_count": null,
   "metadata": {},
   "outputs": [],
   "source": [
    "os.chdir(\"..\")\n",
    "print(os.getcwd())"
   ]
  },
  {
   "cell_type": "code",
   "execution_count": null,
   "metadata": {},
   "outputs": [],
   "source": [
    "os.rmdir(\"newdir\")"
   ]
  },
  {
   "cell_type": "markdown",
   "metadata": {},
   "source": [
    "#### Accessing environment"
   ]
  },
  {
   "cell_type": "code",
   "execution_count": null,
   "metadata": {},
   "outputs": [],
   "source": [
    "print(os.environ['HOME'])\n",
    "print('HOME' in os.environ)\n",
    "\n",
    "# using get will return `None` if a key is not present rather than raise a `KeyError`\n",
    "print(os.environ.get('KEY_THAT_MIGHT_EXIST'))\n",
    "\n",
    "# os.getenv is equivalent, and can also give a default value instead of `None`\n",
    "print(os.getenv('KEY_THAT_MIGHT_EXIST', 'SOME_KEY'))\n",
    "\n",
    "# Setting variable\n",
    "os.environ['PythonTraining'] = 'is fun'\n",
    "print(os.environ.get('PythonTraining'))"
   ]
  },
  {
   "cell_type": "markdown",
   "metadata": {},
   "source": [
    "#### Other utilities"
   ]
  },
  {
   "cell_type": "code",
   "execution_count": null,
   "metadata": {},
   "outputs": [],
   "source": [
    "print(os.path.isfile('/etc/passwd'))\n",
    "print(os.path.isdir('/etc/passwd'))\n",
    "print(os.path.islink('python'))\n",
    "print(os.path.realpath('python'))\n",
    "print(os.path.getsize('/etc/passwd'))"
   ]
  },
  {
   "cell_type": "code",
   "execution_count": null,
   "metadata": {},
   "outputs": [],
   "source": [
    "import shutil"
   ]
  },
  {
   "cell_type": "markdown",
   "metadata": {},
   "source": [
    "The shutil module offers a number of high-level operations on <b>files and collections of files</b>. In particular, functions are provided which support file copying and removal. \n",
    "For operations on individual files, see also the os module."
   ]
  },
  {
   "cell_type": "code",
   "execution_count": null,
   "metadata": {},
   "outputs": [],
   "source": [
    "help (shutil.copy)\n",
    "help (shutil.move)"
   ]
  },
  {
   "cell_type": "markdown",
   "metadata": {},
   "source": [
    "# Exceptions and exception handling"
   ]
  },
  {
   "cell_type": "markdown",
   "metadata": {},
   "source": [
    "### Syntax vs. run-time errors\n",
    "A <b>python</b> program with a syntax error will execute no steps at all, but a program with a run-time error will execute the steps that happened before the error occured."
   ]
  },
  {
   "cell_type": "code",
   "execution_count": null,
   "metadata": {},
   "outputs": [],
   "source": [
    "print(\"programming is fun, debugging programs is not\")\n",
    "print('This does not make sense: ' 1/0)"
   ]
  },
  {
   "cell_type": "code",
   "execution_count": null,
   "metadata": {},
   "outputs": [],
   "source": [
    "print(\"programming is fun, debugging programs is not\")\n",
    "print('This does not make sense: ',1/0)"
   ]
  },
  {
   "cell_type": "markdown",
   "metadata": {},
   "source": [
    "#### In Python an <font color='blue'>exception</font> is an object that is <font color='blue'>raised</font> when an \"exceptional\" situation occurs. "
   ]
  },
  {
   "cell_type": "markdown",
   "metadata": {},
   "source": [
    "## Built-in exceptions\n",
    "\n",
    "<table style=\"width:100%\">\n",
    "  <tr>\n",
    "    <th>Exception name</th>\n",
    "    <th>Description</th> \n",
    "  </tr>\n",
    "  <tr>\n",
    "    <td>IOError</td>\n",
    "    <td>Raised when an IO operation fails.</td> \n",
    "  </tr>\n",
    "  <tr>\n",
    "    <td>KeyError</td>\n",
    "    <td>Raised when a mapping (dictionary) key is not found in the set of existing keys.</td> \n",
    "  </tr>\n",
    "  <tr>\n",
    "    <td>NameError</td>\n",
    "    <td>Raised when an identifier is not found in the local or global namespace.</td> \n",
    "  </tr>\n",
    "  <tr>\n",
    "    <td>OSError</td>\n",
    "    <td>Raised when a function returns a system-related error.</td> \n",
    "  </tr>\n",
    "  <tr>\n",
    "    <td>ValueError</td>\n",
    "    <td>Raised when a built-in operation or function receives an argument that has the right type but an inappropriate value.</td> \n",
    "  </tr>\n",
    "  <tr>\n",
    "    <td>ZeroDivisionError</td>\n",
    "    <td>Raised when the second argument of a division or modulo operation is zero.</td> \n",
    "  </tr>\n",
    "</table>\n",
    "\n",
    "For a full list see https://docs.python.org/3/library/exceptions.html"
   ]
  },
  {
   "cell_type": "markdown",
   "metadata": {},
   "source": [
    "### raise statement"
   ]
  },
  {
   "cell_type": "markdown",
   "metadata": {},
   "source": [
    "One can generate exceptions using the <font color='blue'>raise</font> statement, which takes an argument that must be an instance of the class <font color='blue'>BaseException</font> or a class derived from it."
   ]
  },
  {
   "cell_type": "markdown",
   "metadata": {},
   "source": [
    "A typical use of exceptions is to abort functions when some error condition occurs, for example:"
   ]
  },
  {
   "cell_type": "code",
   "execution_count": null,
   "metadata": {
    "scrolled": false
   },
   "outputs": [],
   "source": [
    "def compute(param):\n",
    "    if (param < 1.):\n",
    "        raise Exception(\"Invalid parameter\")\n",
    "compute(.1)"
   ]
  },
  {
   "cell_type": "markdown",
   "metadata": {},
   "source": [
    "__When an exception is raised, and is not handled by the code, it propagates back to the calling code (and its calling code) until it's handled.__"
   ]
  },
  {
   "cell_type": "markdown",
   "metadata": {},
   "source": [
    "### How do we \"handle\" exceptions\n",
    "\n",
    "#### We use the <font color='blue'>try...except</font> block. \n"
   ]
  },
  {
   "cell_type": "code",
   "execution_count": null,
   "metadata": {},
   "outputs": [],
   "source": [
    "try:                                                      # required keyword\n",
    "    print('< Try: Block of code that harbors the risk of an exception >') # exception generated in this block\n",
    "except:                                                   # required keyword\n",
    "    print('*** There was a runtime error ***')             # exception is caught here\n",
    "    \n",
    "print('< We are outside the try statement >')"
   ]
  },
  {
   "cell_type": "code",
   "execution_count": null,
   "metadata": {},
   "outputs": [],
   "source": [
    "(x,y) = (5,0)\n",
    "try:\n",
    "    z = x/y\n",
    "except ZeroDivisionError:\n",
    "    print(\"divide by zero\")"
   ]
  },
  {
   "cell_type": "markdown",
   "metadata": {},
   "source": [
    "#### General <font color='blue'>try...except</font> block"
   ]
  },
  {
   "cell_type": "code",
   "execution_count": null,
   "metadata": {},
   "outputs": [],
   "source": [
    "try:                                                      # required keyword\n",
    "    print('< Try: Block of code that harbors the risk of an exception >') # exception generated in this block\n",
    "except:                                                   # required keyword\n",
    "    print('*** There was a runtime error ***')             # exception is caught here\n",
    "else:                                                     # optional keyword\n",
    "    print('< Else: There was no exception >')\n",
    "finally:                                                  # optional keyword - like a clean-up step\n",
    "    print('< Finally: Exception handling is finished - always executed >')\n",
    "    \n",
    "print('< We are outside the try statement >')"
   ]
  },
  {
   "cell_type": "markdown",
   "metadata": {},
   "source": [
    "### Exception Handling and File Processing"
   ]
  },
  {
   "cell_type": "code",
   "execution_count": null,
   "metadata": {},
   "outputs": [],
   "source": [
    "with open ('nonExistentFile.txt', 'r') as f:\n",
    "   data = my_file.readlines()"
   ]
  },
  {
   "cell_type": "code",
   "execution_count": null,
   "metadata": {},
   "outputs": [],
   "source": [
    "try:\n",
    "    with open ('nonExistentFile.txt', 'r') as f:\n",
    "        data = f.readline()\n",
    "except IOError:\n",
    "    print('File does not exist')\n",
    "else:\n",
    "    print(data)"
   ]
  },
  {
   "cell_type": "markdown",
   "metadata": {},
   "source": [
    "#### <font color='red'>Summary</font>: \n",
    "\n",
    "Exception handling is a useful feature of Python - more art than science. \n",
    "\n",
    "Raise exceptions whenever something unexpected occurs, and catch them only where you can do something about them."
   ]
  },
  {
   "cell_type": "markdown",
   "metadata": {},
   "source": [
    "Exercise:\n",
    "\n",
    "Add a try-except block to the follwing code, i.e. instead of performing checks (using 'if') before we do something, we just do it – and if an error does occur we handle it."
   ]
  },
  {
   "cell_type": "code",
   "execution_count": null,
   "metadata": {},
   "outputs": [],
   "source": [
    "n = None\n",
    "while n is None:\n",
    "    s = raw_input(\"Please enter an integer: \")\n",
    "    if s.isdigit():\n",
    "        n = int(s)\n",
    "    else:\n",
    "        print(\"%s is not an integer.\" % s)"
   ]
  },
  {
   "cell_type": "code",
   "execution_count": null,
   "metadata": {},
   "outputs": [],
   "source": []
  },
  {
   "cell_type": "markdown",
   "metadata": {},
   "source": [
    "### Binary data IO"
   ]
  },
  {
   "cell_type": "markdown",
   "metadata": {},
   "source": [
    "Binary files store data in 0's and 1's that is machine readable. A byte is collection of 8-bits. One character stores one byte in the memory that is 8-bits. For example, the binary representation of character 'H' is 01001000 and convert this 8-bit binary string into decimal gives you 72."
   ]
  },
  {
   "cell_type": "code",
   "execution_count": null,
   "metadata": {},
   "outputs": [],
   "source": [
    "binary_file=open(\"binary_file.bin\",mode=\"wb+\")\n",
    "text=\"Hello 123\"\n",
    "encoded=text.encode(\"utf-8\")\n",
    "binary_file.write(encoded)\n",
    "binary_file.seek(0)\n",
    "binary_data=binary_file.read()\n",
    "print(\"binary:\",binary_data)\n",
    "text=binary_data.decode(\"utf-8\")\n",
    "print(\"Decoded data:\",text)"
   ]
  },
  {
   "cell_type": "markdown",
   "metadata": {},
   "source": [
    "When you open a file for reading in binary mode b, it returns bytes of data. \n",
    "\n",
    "If you ever need to read or write text from a binary-mode file, make sure you remember to decode or encode it like above. You can access each byte through iteration like below and it will return integer byte values (decimal of the 8-bit binary representation of each character) instead of byte strings:"
   ]
  },
  {
   "cell_type": "code",
   "execution_count": null,
   "metadata": {},
   "outputs": [],
   "source": [
    "for byte in binary_data:\n",
    "    print(byte)"
   ]
  },
  {
   "cell_type": "code",
   "execution_count": null,
   "metadata": {},
   "outputs": [],
   "source": []
  },
  {
   "cell_type": "code",
   "execution_count": null,
   "metadata": {},
   "outputs": [],
   "source": []
  },
  {
   "cell_type": "code",
   "execution_count": null,
   "metadata": {},
   "outputs": [],
   "source": []
  },
  {
   "cell_type": "markdown",
   "metadata": {},
   "source": [
    "The bytes type in Python is immutable and stores a sequence of values ranging from 0-255 (8-bits). You can get the value of a single byte by using an index like an array, but the values can not be modified."
   ]
  },
  {
   "cell_type": "code",
   "execution_count": null,
   "metadata": {},
   "outputs": [],
   "source": [
    "# Create empty bytes\n",
    "empty_bytes = bytes(4)\n",
    "print(type(empty_bytes))\n",
    "print(empty_bytes)"
   ]
  },
  {
   "cell_type": "markdown",
   "metadata": {},
   "source": [
    "To create a mutable object you need to use the bytearray type. With a bytearray you can do everything you can with other mutables like push, pop, insert, append, delete, and sort."
   ]
  },
  {
   "cell_type": "code",
   "execution_count": null,
   "metadata": {},
   "outputs": [],
   "source": [
    "# Cast bytes to bytearray\n",
    "mutable_bytes = bytearray(b'\\x00\\x0F')\n",
    "\n",
    "# Bytearray allows modification\n",
    "mutable_bytes[0] = 255\n",
    "mutable_bytes.append(255)\n",
    "print(mutable_bytes)\n",
    "\n",
    "# Cast bytearray back to bytes\n",
    "immutable_bytes = bytes(mutable_bytes)\n",
    "print(immutable_bytes)"
   ]
  },
  {
   "cell_type": "code",
   "execution_count": null,
   "metadata": {},
   "outputs": [],
   "source": [
    "with open(\"cat.jpg\", \"rb\") as binary_file:\n",
    "    # Read the whole file at once\n",
    "    data = binary_file.read()\n",
    "    # print(data)\n",
    "\n",
    "    # Seek position and read N bytes\n",
    "    binary_file.seek(0)  # Go to beginning\n",
    "    couple_bytes = binary_file.read(2)\n",
    "    print(couple_bytes)"
   ]
  },
  {
   "cell_type": "markdown",
   "metadata": {},
   "source": [
    "### Text encoding"
   ]
  },
  {
   "cell_type": "code",
   "execution_count": null,
   "metadata": {},
   "outputs": [],
   "source": [
    "# Binary to Text\n",
    "binary_data = b'I am text.'\n",
    "text = binary_data.decode('utf-8')\n",
    "print(text)\n",
    "\n",
    "binary_data = bytes([65, 66, 67])  # ASCII values for A, B, C\n",
    "text = binary_data.decode('utf-8')\n",
    "print(text)"
   ]
  },
  {
   "cell_type": "code",
   "execution_count": null,
   "metadata": {},
   "outputs": [],
   "source": [
    "# Text to Binary\n",
    "message = \"Hello\"  # str\n",
    "binary_message = message.encode('utf-8')\n",
    "print(type(binary_message))  # bytes\n",
    "\n",
    "# Python has many built in encodings for different languages,\n",
    "# and even the Caeser cipher is built in\n",
    "import codecs\n",
    "cipher_text = codecs.encode(message, 'rot_13')\n",
    "print(cipher_text)"
   ]
  },
  {
   "cell_type": "markdown",
   "metadata": {},
   "source": [
    "Format strings can be helpful to visualize or output byte values. Format strings require an integer value so the byte will have to be converted to an integer first.\n",
    "\n"
   ]
  },
  {
   "cell_type": "code",
   "execution_count": null,
   "metadata": {},
   "outputs": [],
   "source": [
    "a_byte = b'\\xff'  # 255\n",
    "i = ord(a_byte)   # Get the integer value of the byte\n",
    "\n",
    "bin = \"{0:b}\".format(i) # binary: 11111111\n",
    "hex = \"{0:x}\".format(i) # hexadecimal: ff\n",
    "oct = \"{0:o}\".format(i) # octal: 377\n",
    "\n",
    "print(bin)\n",
    "print(hex)\n",
    "print(oct)"
   ]
  },
  {
   "cell_type": "raw",
   "metadata": {},
   "source": [
    "Struct Packing and Unpacking\n",
    "\n",
    "Packing and unpacking requires a string that defines how the binary data is structured. It needs to know which bytes represent values. It needs to know whether the entire set of bytes represets characters or if it is a sequence of 4-byte integers. It can be structured in any number of ways. The format strings can be simple or complex. In this example I am packing a single four-byte integer followed by two characters. The letters i and c represent integers and characters."
   ]
  },
  {
   "cell_type": "code",
   "execution_count": null,
   "metadata": {},
   "outputs": [],
   "source": [
    "import struct\n",
    "\n",
    "# Packing values to bytes\n",
    "# The first parameter is the format string. Here it specifies the data is structured\n",
    "# with a single four-byte integer followed by two characters.\n",
    "# The rest of the parameters are the values for each item in order\n",
    "binary_data = struct.pack(\"icc\", 8499000, b'A', b'Z')\n",
    "print(binary_data)\n",
    "\n",
    "# When unpacking, you receive a tuple of all data in the same order\n",
    "tuple_of_data = struct.unpack(\"icc\", binary_data)\n",
    "print(tuple_of_data)\n",
    "\n",
    "# For more information on format strings and endiannes, refer to\n",
    "# https://docs.python.org/3.5/library/struct.html"
   ]
  },
  {
   "cell_type": "markdown",
   "metadata": {},
   "source": [
    "You might need to know what byte order your system uses. Byte order refers to big endian or little endian. The sys module can provide that value."
   ]
  },
  {
   "cell_type": "code",
   "execution_count": null,
   "metadata": {},
   "outputs": [],
   "source": [
    "# Find out what byte order your system uses\n",
    "import sys\n",
    "print(\"Native byteorder: \", sys.byteorder)"
   ]
  },
  {
   "cell_type": "code",
   "execution_count": null,
   "metadata": {},
   "outputs": [],
   "source": [
    "#is_jpeg.py - Does the file have a JPEG binary signature?\n",
    "import sys\n",
    "import binascii\n",
    "\n",
    "jpeg_signatures = [\n",
    "    binascii.unhexlify(b'FFD8FFD8'),\n",
    "    binascii.unhexlify(b'FFD8FFE0'),\n",
    "    binascii.unhexlify(b'FFD8FFE1')\n",
    "]\n",
    "\n",
    "with open('cat.jpg', 'rb') as file:\n",
    "    first_four_bytes = file.read(4)\n",
    "\n",
    "    if first_four_bytes in jpeg_signatures:\n",
    "        print(\"JPEG detected.\")\n",
    "    else:\n",
    "        print(\"File does not look like a JPEG.\")"
   ]
  },
  {
   "cell_type": "code",
   "execution_count": null,
   "metadata": {},
   "outputs": [],
   "source": []
  },
  {
   "cell_type": "markdown",
   "metadata": {},
   "source": [
    "The differences between binary and ascii encoding won't be obvious for simple alphanumeric strings, but will become important if you're processing text that includes characters not in the ascii character set."
   ]
  },
  {
   "cell_type": "code",
   "execution_count": null,
   "metadata": {
    "scrolled": true
   },
   "outputs": [],
   "source": [
    "with open('cat.jpg', 'rb') as f:\n",
    "    data = f.readline()\n",
    "print(data)"
   ]
  },
  {
   "cell_type": "markdown",
   "metadata": {},
   "source": [
    "Hex dump is useful for debugging. In a hex dump, each byte (8-bits) is represented as a two-digit hexadecimal number."
   ]
  },
  {
   "cell_type": "code",
   "execution_count": null,
   "metadata": {},
   "outputs": [],
   "source": [
    "with open('cat.jpg', 'rb') as f:\n",
    "    data = f.read()\n",
    " \n",
    "    if data.startswith(b'\\xff\\xd8'):\n",
    "        info = 'This is a jpeg file (%d bytes long)'\n",
    "    else:\n",
    "        info = 'This is a random file (%d bytes long)'\n",
    "\n",
    "    print (info % len(data))"
   ]
  },
  {
   "cell_type": "code",
   "execution_count": null,
   "metadata": {},
   "outputs": [],
   "source": [
    "from IPython.display import Image\n",
    "kitty = Image(filename = 'cat.jpg')\n",
    "kitty"
   ]
  },
  {
   "cell_type": "code",
   "execution_count": null,
   "metadata": {},
   "outputs": [],
   "source": []
  }
 ],
 "metadata": {
  "anaconda-cloud": {},
  "celltoolbar": "Raw Cell Format",
  "kernelspec": {
   "display_name": "Python 3",
   "language": "python",
   "name": "python3"
  },
  "language_info": {
   "codemirror_mode": {
    "name": "ipython",
    "version": 3
   },
   "file_extension": ".py",
   "mimetype": "text/x-python",
   "name": "python",
   "nbconvert_exporter": "python",
   "pygments_lexer": "ipython3",
   "version": "3.6.3"
  }
 },
 "nbformat": 4,
 "nbformat_minor": 1
}
